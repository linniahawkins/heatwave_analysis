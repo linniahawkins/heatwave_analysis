{
 "cells": [
  {
   "cell_type": "markdown",
   "id": "452553dc-288d-4c5c-b6bb-899f087e5150",
   "metadata": {},
   "source": [
    "### Create data files\n",
    "#### extract & rename variables used in this analysis from raw Ameriflux and NEON data\n",
    "#### Using AMeriFlux variable naming convention (and units)\n",
    "#### LH June 2024"
   ]
  },
  {
   "cell_type": "code",
   "execution_count": 13,
   "id": "e3558257-19cf-4338-abba-a15be59d62a6",
   "metadata": {},
   "outputs": [],
   "source": [
    "import sys\n",
    "import os, glob\n",
    "import csv \n",
    "import calendar\n",
    "import numpy as np\n",
    "import matplotlib\n",
    "import matplotlib.pyplot as plt \n",
    "from datetime import datetime, timedelta\n",
    "import pandas as pd\n",
    "import xarray as xr"
   ]
  },
  {
   "cell_type": "markdown",
   "id": "6374091a-30f7-489e-82e2-65656801891f",
   "metadata": {
    "jp-MarkdownHeadingCollapsed": true,
    "tags": []
   },
   "source": [
    "### NEON"
   ]
  },
  {
   "cell_type": "code",
   "execution_count": 10,
   "id": "9c765312-e9ed-4b4d-9f47-99b1fb8e4dbb",
   "metadata": {},
   "outputs": [],
   "source": [
    "varlist = ['LE_F_MDS','H_F_MDS','TA_F','VPD_F','SW_IN_F','NEE_VUT_50','GPP_NT_VUT_50','RECO_NT_VUT_50']\n",
    "units = ['W m-2','W m-2','C','hPa','W m-2','umol m-2 s-1','umol m-2 s-1','umol m-2 s-1']"
   ]
  },
  {
   "cell_type": "code",
   "execution_count": 6,
   "id": "4b6f1b05-a53d-47bd-9815-2b68d0e8e853",
   "metadata": {},
   "outputs": [],
   "source": [
    "### ABBY\n",
    "in_dir = '../data_raw/'\n",
    "filename=os.path.join(in_dir+'AMF_US-xAB_FLUXNET_SUBSET_HH_2019-2024_5-7.csv') \n",
    "df = pd.read_csv(filename,index_col=0,parse_dates=True,header=0,skiprows = [i for i in range(1, 3) ])\n",
    "df[df==-9999]=np.NaN"
   ]
  },
  {
   "cell_type": "code",
   "execution_count": 11,
   "id": "3db2b4c2-ac60-4b6d-9593-d55fe1457c18",
   "metadata": {
    "tags": []
   },
   "outputs": [
    {
     "name": "stderr",
     "output_type": "stream",
     "text": [
      "/Users/linniahawkins/opt/anaconda3/lib/python3.8/site-packages/pandas/core/frame.py:4441: SettingWithCopyWarning: \n",
      "A value is trying to be set on a copy of a slice from a DataFrame\n",
      "\n",
      "See the caveats in the documentation: https://pandas.pydata.org/pandas-docs/stable/user_guide/indexing.html#returning-a-view-versus-a-copy\n",
      "  return super().rename(\n"
     ]
    }
   ],
   "source": [
    "# write\n",
    "df_out = df[varlist]\n",
    "df_out.rename(columns={'TA_F': 'TA','LE_F_MDS':'LH', 'H_F_MDS':'H', 'SW_IN_F': 'SW_IN','NEE_VUT_50':'NEE','GPP_NT_VUT_50':'GPP','RECO_NT_VUT_50':'RECO'}, inplace=True)\n",
    "df_out.to_csv('../data/NEON-ABBY.csv')"
   ]
  },
  {
   "cell_type": "code",
   "execution_count": 12,
   "id": "1107399d-4102-4738-99bd-18f8181b771f",
   "metadata": {},
   "outputs": [
    {
     "name": "stderr",
     "output_type": "stream",
     "text": [
      "/Users/linniahawkins/opt/anaconda3/lib/python3.8/site-packages/pandas/core/frame.py:4441: SettingWithCopyWarning: \n",
      "A value is trying to be set on a copy of a slice from a DataFrame\n",
      "\n",
      "See the caveats in the documentation: https://pandas.pydata.org/pandas-docs/stable/user_guide/indexing.html#returning-a-view-versus-a-copy\n",
      "  return super().rename(\n"
     ]
    }
   ],
   "source": [
    "### WREF\n",
    "in_dir = '../data_raw/'\n",
    "filename=os.path.join(in_dir+'AMF_US-xWR_FLUXNET_SUBSET_HH_2019-2024_3-7.csv') \n",
    "df = pd.read_csv(filename,index_col=0,parse_dates=True,header=0,skiprows = [i for i in range(1, 3) ])\n",
    "df[df==-9999]=np.NaN\n",
    "\n",
    "# write\n",
    "df_out = df[varlist]\n",
    "df_out.rename(columns={'TA_F': 'TA','LE_F_MDS':'LH', 'H_F_MDS':'H', 'SW_IN_F': 'SW_IN','NEE_VUT_50':'NEE','GPP_NT_VUT_50':'GPP','RECO_NT_VUT_50':'RECO'}, inplace=True)\n",
    "df_out.to_csv('../data/NEON-WREF.csv')"
   ]
  },
  {
   "cell_type": "markdown",
   "id": "71d01b1d-6b8d-470f-ada3-caf3fd03a041",
   "metadata": {
    "jp-MarkdownHeadingCollapsed": true,
    "tags": []
   },
   "source": [
    "### CA-Ca3"
   ]
  },
  {
   "cell_type": "code",
   "execution_count": 58,
   "id": "779cbb28-d081-479d-9a0b-efa39815a5a8",
   "metadata": {},
   "outputs": [],
   "source": [
    "varlist = ['LH','H','TA','VPD','SW_IN','NEE','GPP','RECO']"
   ]
  },
  {
   "cell_type": "code",
   "execution_count": 59,
   "id": "c114a818-8bda-4c65-97e5-1d6fc2aa554f",
   "metadata": {
    "tags": []
   },
   "outputs": [
    {
     "name": "stderr",
     "output_type": "stream",
     "text": [
      "<ipython-input-59-cf75754f4237>:8: FutureWarning: The pandas.datetime class is deprecated and will be removed from pandas in a future version. Import from datetime module instead.\n",
      "  st = pd.datetime(2011,1,1,0,0,0)\n",
      "<ipython-input-59-cf75754f4237>:10: SettingWithCopyWarning: \n",
      "A value is trying to be set on a copy of a slice from a DataFrame\n",
      "\n",
      "See the caveats in the documentation: https://pandas.pydata.org/pandas-docs/stable/user_guide/indexing.html#returning-a-view-versus-a-copy\n",
      "  df['SW_IN'][st:] = df['SW_IN_1_2_1'][st:]\n",
      "<ipython-input-59-cf75754f4237>:14: SettingWithCopyWarning: \n",
      "A value is trying to be set on a copy of a slice from a DataFrame\n",
      "\n",
      "See the caveats in the documentation: https://pandas.pydata.org/pandas-docs/stable/user_guide/indexing.html#returning-a-view-versus-a-copy\n",
      "  df['GPP'][st:] = df['GPP_PI_F_1'][st:]\n",
      "<ipython-input-59-cf75754f4237>:15: SettingWithCopyWarning: \n",
      "A value is trying to be set on a copy of a slice from a DataFrame\n",
      "\n",
      "See the caveats in the documentation: https://pandas.pydata.org/pandas-docs/stable/user_guide/indexing.html#returning-a-view-versus-a-copy\n",
      "  df['GPP'][df['GPP']<0] = np.NaN\n",
      "<ipython-input-59-cf75754f4237>:19: SettingWithCopyWarning: \n",
      "A value is trying to be set on a copy of a slice from a DataFrame\n",
      "\n",
      "See the caveats in the documentation: https://pandas.pydata.org/pandas-docs/stable/user_guide/indexing.html#returning-a-view-versus-a-copy\n",
      "  df['RECO'][st:] = df['RECO_PI_F_1'][st:]\n",
      "<ipython-input-59-cf75754f4237>:22: FutureWarning: The pandas.datetime class is deprecated and will be removed from pandas in a future version. Import from datetime module instead.\n",
      "  st = pd.datetime(2017,1,1,0,0,0)\n",
      "<ipython-input-59-cf75754f4237>:24: SettingWithCopyWarning: \n",
      "A value is trying to be set on a copy of a slice from a DataFrame\n",
      "\n",
      "See the caveats in the documentation: https://pandas.pydata.org/pandas-docs/stable/user_guide/indexing.html#returning-a-view-versus-a-copy\n",
      "  df['TA'][st:] = df['TA_1_6_2'][st:]\n",
      "<ipython-input-59-cf75754f4237>:44: SettingWithCopyWarning: \n",
      "A value is trying to be set on a copy of a slice from a DataFrame\n",
      "\n",
      "See the caveats in the documentation: https://pandas.pydata.org/pandas-docs/stable/user_guide/indexing.html#returning-a-view-versus-a-copy\n",
      "  df['NEE'][df['NEE']>100] = np.NaN\n"
     ]
    }
   ],
   "source": [
    "# US-Ca3\n",
    "in_dir = '../data_raw/'\n",
    "filename = os.path.join(in_dir+'AMF_CA-Ca3_BASE_HH_6-5.csv')\n",
    "df = pd.read_csv(filename,header=2,index_col=0, parse_dates=True, squeeze=True)\n",
    "df[df==-9999]=np.NaN\n",
    "\n",
    "# SW\n",
    "st = pd.datetime(2011,1,1,0,0,0)\n",
    "df['SW_IN'] = df['SW_IN_PI_F_1']\n",
    "df['SW_IN'][st:] = df['SW_IN_1_2_1'][st:]\n",
    "\n",
    "# GPP\n",
    "df['GPP'] = df['GPP_PI_F']\n",
    "df['GPP'][st:] = df['GPP_PI_F_1'][st:]\n",
    "df['GPP'][df['GPP']<0] = np.NaN\n",
    "\n",
    "# RECO\n",
    "df['RECO'] = df['RECO_PI_F']\n",
    "df['RECO'][st:] = df['RECO_PI_F_1'][st:]\n",
    "\n",
    "# TA\n",
    "st = pd.datetime(2017,1,1,0,0,0)\n",
    "df['TA'] = df['TA_1_3_1']\n",
    "df['TA'][st:] = df['TA_1_6_2'][st:]\n",
    "\n",
    "df['VPD'] = df.VPD_PI\n",
    "\n",
    "\n",
    "# ADD gap filled NEE & LE\n",
    "in_dir = '../data_raw/'\n",
    "filename = os.path.join(in_dir+'CA3_REddyPro.txt')\n",
    "df_gf = pd.read_csv(filename,sep=r\"\\s+\",header=0,skiprows=[1], parse_dates=True, squeeze=True)\n",
    "df_gf[df_gf==-9999]=np.NaN\n",
    "ts = (\n",
    "    pd.to_datetime(df_gf['Year'].astype(int), format='%Y') +\n",
    "    pd.to_timedelta(df_gf['DoY'] - 1, unit='D') +\n",
    "    pd.to_timedelta(df_gf['Hour'], unit='h')\n",
    ")\n",
    "\n",
    "df_gf = df_gf.set_index(ts)\n",
    "\n",
    "\n",
    "df['NEE'] = df_gf['NEE_gf']\n",
    "df['NEE'][df['NEE']>100] = np.NaN\n",
    "\n",
    "df['LH'] = df_gf.LE_gf\n"
   ]
  },
  {
   "cell_type": "code",
   "execution_count": 60,
   "id": "bd8037cf-f3aa-45d7-be87-605f5ed66ffb",
   "metadata": {},
   "outputs": [],
   "source": [
    "df_out = df[varlist]\n",
    "df_out.to_csv('../data/CA-Ca3.csv')"
   ]
  },
  {
   "cell_type": "markdown",
   "id": "9490d09c-23fb-453d-b03a-8e596edb8160",
   "metadata": {
    "tags": []
   },
   "source": [
    "### US-Me6"
   ]
  },
  {
   "cell_type": "code",
   "execution_count": 14,
   "id": "7a818fad-0ab5-46c0-9ab1-a8df70abb3e3",
   "metadata": {},
   "outputs": [],
   "source": [
    "varlist = ['LH','H','TA','RH','SW_IN','NEE','GPP','RECO']"
   ]
  },
  {
   "cell_type": "code",
   "execution_count": 73,
   "id": "46223d49-9551-49cd-88d2-e5401d65f9ec",
   "metadata": {},
   "outputs": [],
   "source": [
    "# US-Me6\n",
    "in_dir = '../data_raw/'\n",
    "filename = os.path.join(in_dir+'AMF_US-Me6_BASE_HH_16-5.csv')\n",
    "df = pd.read_csv(filename,header=2,index_col=0, parse_dates=True, squeeze=True)\n",
    "df[df==-9999]=np.NaN"
   ]
  },
  {
   "cell_type": "code",
   "execution_count": 74,
   "id": "a01a1521-8c40-406e-8bcb-ac81a3bb2595",
   "metadata": {},
   "outputs": [
    {
     "name": "stderr",
     "output_type": "stream",
     "text": [
      "<ipython-input-74-ee1ae198aa9d>:3: FutureWarning: The pandas.datetime class is deprecated and will be removed from pandas in a future version. Import from datetime module instead.\n",
      "  df_me6_2020.index = pd.date_range(pd.datetime(2019,12,31,0,0,0),pd.datetime(2020,12,30,23,30,0),freq='30min')\n"
     ]
    }
   ],
   "source": [
    "filename = os.path.join(in_dir+'USMe6_2020_fluxmet_Linnia.csv')\n",
    "df_me6_2020 = pd.read_csv(filename,header=2,index_col=None, parse_dates=False, squeeze=True)\n",
    "df_me6_2020.index = pd.date_range(pd.datetime(2019,12,31,0,0,0),pd.datetime(2020,12,30,23,30,0),freq='30min')"
   ]
  },
  {
   "cell_type": "code",
   "execution_count": 75,
   "id": "5fff39b5-810e-455a-abbb-45927c9eab5b",
   "metadata": {},
   "outputs": [
    {
     "name": "stderr",
     "output_type": "stream",
     "text": [
      "<ipython-input-75-8a46278da8d5>:3: FutureWarning: The pandas.datetime class is deprecated and will be removed from pandas in a future version. Import from datetime module instead.\n",
      "  df_me6_2021.index = pd.date_range(pd.datetime(2021,1,1,0,0,0),pd.datetime(2021,12,31,23,30,0),freq='30min')\n"
     ]
    }
   ],
   "source": [
    "filename = os.path.join(in_dir+'USMe6_2021_fluxmet_Linnia.csv')\n",
    "df_me6_2021 = pd.read_csv(filename,header=2,index_col=None, parse_dates=False, squeeze=True)\n",
    "df_me6_2021.index = pd.date_range(pd.datetime(2021,1,1,0,0,0),pd.datetime(2021,12,31,23,30,0),freq='30min')"
   ]
  },
  {
   "cell_type": "code",
   "execution_count": 76,
   "id": "70919c9a-1aba-415c-9bf4-e3d0bcca1894",
   "metadata": {
    "collapsed": true,
    "jupyter": {
     "outputs_hidden": true
    },
    "tags": []
   },
   "outputs": [
    {
     "name": "stderr",
     "output_type": "stream",
     "text": [
      "<ipython-input-76-ce12b0eefcc8>:3: FutureWarning: The pandas.datetime class is deprecated and will be removed from pandas in a future version. Import from datetime module instead.\n",
      "  st = pd.datetime(2020,1,1,0,0,0); en = pd.datetime(2020,12,30,23,30,0)\n",
      "<ipython-input-76-ce12b0eefcc8>:4: SettingWithCopyWarning: \n",
      "A value is trying to be set on a copy of a slice from a DataFrame\n",
      "\n",
      "See the caveats in the documentation: https://pandas.pydata.org/pandas-docs/stable/user_guide/indexing.html#returning-a-view-versus-a-copy\n",
      "  df['GPP'][st:en] = -df_me6_2020['GEP_umolm-2s-1'][st:en]\n",
      "<ipython-input-76-ce12b0eefcc8>:5: FutureWarning: The pandas.datetime class is deprecated and will be removed from pandas in a future version. Import from datetime module instead.\n",
      "  st = pd.datetime(2021,1,1,0,0,0); en = pd.datetime(2021,12,31,23,30,0)\n",
      "<ipython-input-76-ce12b0eefcc8>:6: SettingWithCopyWarning: \n",
      "A value is trying to be set on a copy of a slice from a DataFrame\n",
      "\n",
      "See the caveats in the documentation: https://pandas.pydata.org/pandas-docs/stable/user_guide/indexing.html#returning-a-view-versus-a-copy\n",
      "  df['GPP'][st:en] = -df_me6_2021['GEP_umolm-2s-1'][st:en]\n",
      "<ipython-input-76-ce12b0eefcc8>:10: FutureWarning: The pandas.datetime class is deprecated and will be removed from pandas in a future version. Import from datetime module instead.\n",
      "  st = pd.datetime(2020,1,1,0,0,0); en = pd.datetime(2020,12,30,23,30,0)\n",
      "<ipython-input-76-ce12b0eefcc8>:11: SettingWithCopyWarning: \n",
      "A value is trying to be set on a copy of a slice from a DataFrame\n",
      "\n",
      "See the caveats in the documentation: https://pandas.pydata.org/pandas-docs/stable/user_guide/indexing.html#returning-a-view-versus-a-copy\n",
      "  df['RECO'][st:en] = df_me6_2020['Re_umolm-2s-1'][st:en]\n",
      "<ipython-input-76-ce12b0eefcc8>:12: FutureWarning: The pandas.datetime class is deprecated and will be removed from pandas in a future version. Import from datetime module instead.\n",
      "  st = pd.datetime(2021,1,1,0,0,0); en = pd.datetime(2021,12,31,23,30,0)\n",
      "<ipython-input-76-ce12b0eefcc8>:13: SettingWithCopyWarning: \n",
      "A value is trying to be set on a copy of a slice from a DataFrame\n",
      "\n",
      "See the caveats in the documentation: https://pandas.pydata.org/pandas-docs/stable/user_guide/indexing.html#returning-a-view-versus-a-copy\n",
      "  df['RECO'][st:en] = df_me6_2021['Re_umolm-2s-1'][st:en]\n",
      "<ipython-input-76-ce12b0eefcc8>:16: FutureWarning: The pandas.datetime class is deprecated and will be removed from pandas in a future version. Import from datetime module instead.\n",
      "  st = pd.datetime(2020,1,1,0,0,0); en = pd.datetime(2020,12,30,23,30,0)\n",
      "<ipython-input-76-ce12b0eefcc8>:17: SettingWithCopyWarning: \n",
      "A value is trying to be set on a copy of a slice from a DataFrame\n",
      "\n",
      "See the caveats in the documentation: https://pandas.pydata.org/pandas-docs/stable/user_guide/indexing.html#returning-a-view-versus-a-copy\n",
      "  df['H'][st:en] = df_me6_2020['Hmeas_Wm-2'][st:en]\n",
      "<ipython-input-76-ce12b0eefcc8>:18: FutureWarning: The pandas.datetime class is deprecated and will be removed from pandas in a future version. Import from datetime module instead.\n",
      "  st = pd.datetime(2021,1,1,0,0,0); en = pd.datetime(2021,12,31,23,30,0)\n",
      "<ipython-input-76-ce12b0eefcc8>:19: SettingWithCopyWarning: \n",
      "A value is trying to be set on a copy of a slice from a DataFrame\n",
      "\n",
      "See the caveats in the documentation: https://pandas.pydata.org/pandas-docs/stable/user_guide/indexing.html#returning-a-view-versus-a-copy\n",
      "  df['H'][st:en] = df_me6_2021['Hmeas_Wm-2'][st:en]\n",
      "<ipython-input-76-ce12b0eefcc8>:23: FutureWarning: The pandas.datetime class is deprecated and will be removed from pandas in a future version. Import from datetime module instead.\n",
      "  st = pd.datetime(2020,1,1,0,0,0); en = pd.datetime(2020,12,30,23,30,0)\n",
      "<ipython-input-76-ce12b0eefcc8>:24: SettingWithCopyWarning: \n",
      "A value is trying to be set on a copy of a slice from a DataFrame\n",
      "\n",
      "See the caveats in the documentation: https://pandas.pydata.org/pandas-docs/stable/user_guide/indexing.html#returning-a-view-versus-a-copy\n",
      "  df['TA'][st:en] = df_me6_2020['Tair_towertop_degC'][st:en]\n",
      "<ipython-input-76-ce12b0eefcc8>:25: FutureWarning: The pandas.datetime class is deprecated and will be removed from pandas in a future version. Import from datetime module instead.\n",
      "  st = pd.datetime(2021,1,1,0,0,0); en = pd.datetime(2021,12,31,23,30,0)\n",
      "<ipython-input-76-ce12b0eefcc8>:26: SettingWithCopyWarning: \n",
      "A value is trying to be set on a copy of a slice from a DataFrame\n",
      "\n",
      "See the caveats in the documentation: https://pandas.pydata.org/pandas-docs/stable/user_guide/indexing.html#returning-a-view-versus-a-copy\n",
      "  df['TA'][st:en] = df_me6_2021['Tair_towertop_degC'][st:en]\n",
      "<ipython-input-76-ce12b0eefcc8>:29: FutureWarning: The pandas.datetime class is deprecated and will be removed from pandas in a future version. Import from datetime module instead.\n",
      "  st = pd.datetime(2020,1,1,0,0,0); en = pd.datetime(2020,12,30,23,30,0)\n",
      "<ipython-input-76-ce12b0eefcc8>:30: SettingWithCopyWarning: \n",
      "A value is trying to be set on a copy of a slice from a DataFrame\n",
      "\n",
      "See the caveats in the documentation: https://pandas.pydata.org/pandas-docs/stable/user_guide/indexing.html#returning-a-view-versus-a-copy\n",
      "  df['RH'][st:en] = df_me6_2020['RH_towertop_%'][st:en]\n",
      "<ipython-input-76-ce12b0eefcc8>:31: FutureWarning: The pandas.datetime class is deprecated and will be removed from pandas in a future version. Import from datetime module instead.\n",
      "  st = pd.datetime(2021,1,1,0,0,0); en = pd.datetime(2021,12,31,23,30,0)\n",
      "<ipython-input-76-ce12b0eefcc8>:32: SettingWithCopyWarning: \n",
      "A value is trying to be set on a copy of a slice from a DataFrame\n",
      "\n",
      "See the caveats in the documentation: https://pandas.pydata.org/pandas-docs/stable/user_guide/indexing.html#returning-a-view-versus-a-copy\n",
      "  df['RH'][st:en] = df_me6_2021['RH_towertop_%'][st:en]\n"
     ]
    }
   ],
   "source": [
    "\n",
    "# GPP\n",
    "df['GPP'] = df['GPP_PI']\n",
    "st = pd.datetime(2020,1,1,0,0,0); en = pd.datetime(2020,12,30,23,30,0)\n",
    "df['GPP'][st:en] = -df_me6_2020['GEP_umolm-2s-1'][st:en]\n",
    "st = pd.datetime(2021,1,1,0,0,0); en = pd.datetime(2021,12,31,23,30,0)\n",
    "df['GPP'][st:en] = -df_me6_2021['GEP_umolm-2s-1'][st:en]\n",
    "\n",
    "# RECO\n",
    "df['RECO'] = df['RECO_PI']\n",
    "st = pd.datetime(2020,1,1,0,0,0); en = pd.datetime(2020,12,30,23,30,0)\n",
    "df['RECO'][st:en] = df_me6_2020['Re_umolm-2s-1'][st:en]\n",
    "st = pd.datetime(2021,1,1,0,0,0); en = pd.datetime(2021,12,31,23,30,0)\n",
    "df['RECO'][st:en] = df_me6_2021['Re_umolm-2s-1'][st:en]\n",
    "\n",
    "# H\n",
    "st = pd.datetime(2020,1,1,0,0,0); en = pd.datetime(2020,12,30,23,30,0)\n",
    "df['H'][st:en] = df_me6_2020['Hmeas_Wm-2'][st:en]\n",
    "st = pd.datetime(2021,1,1,0,0,0); en = pd.datetime(2021,12,31,23,30,0)\n",
    "df['H'][st:en] = df_me6_2021['Hmeas_Wm-2'][st:en]\n",
    "\n",
    "# TA\n",
    "df['TA'] = df['TA_1_1_2']\n",
    "st = pd.datetime(2020,1,1,0,0,0); en = pd.datetime(2020,12,30,23,30,0)\n",
    "df['TA'][st:en] = df_me6_2020['Tair_towertop_degC'][st:en]\n",
    "st = pd.datetime(2021,1,1,0,0,0); en = pd.datetime(2021,12,31,23,30,0)\n",
    "df['TA'][st:en] = df_me6_2021['Tair_towertop_degC'][st:en]\n",
    "\n",
    "# RH\n",
    "st = pd.datetime(2020,1,1,0,0,0); en = pd.datetime(2020,12,30,23,30,0)\n",
    "df['RH'][st:en] = df_me6_2020['RH_towertop_%'][st:en]\n",
    "st = pd.datetime(2021,1,1,0,0,0); en = pd.datetime(2021,12,31,23,30,0)\n",
    "df['RH'][st:en] = df_me6_2021['RH_towertop_%'][st:en]"
   ]
  },
  {
   "cell_type": "code",
   "execution_count": 15,
   "id": "ca21b660-045f-4e0a-a021-e4b56a70b60c",
   "metadata": {},
   "outputs": [],
   "source": [
    "in_dir = '../data_raw/'\n",
    "filename = os.path.join(in_dir+'ME6_REddyPro.txt')\n",
    "df_gf = pd.read_csv(filename,sep=r\"\\s+\",header=0,skiprows=[1], parse_dates=False, squeeze=True)\n",
    "df_gf[df_gf==-9999]=np.NaN\n",
    "ts = (\n",
    "    pd.to_datetime(df_gf['Year'].astype(int), format='%Y') +\n",
    "    pd.to_timedelta(df_gf['DoY'] - 1, unit='D') +\n",
    "    pd.to_timedelta(df_gf['Hour'], unit='h')\n",
    ")\n",
    "\n",
    "df_gf = df_gf.set_index(ts)"
   ]
  },
  {
   "cell_type": "code",
   "execution_count": 81,
   "id": "02636d95-8200-4e98-b575-fb6a11e63c5e",
   "metadata": {},
   "outputs": [],
   "source": [
    "df['NEE'] = df_gf['NEE_gf']\n",
    "df['LH'] = df_gf['LE_gf']"
   ]
  },
  {
   "cell_type": "code",
   "execution_count": 82,
   "id": "68d2a348-71ef-4dc9-8763-470a64bad826",
   "metadata": {},
   "outputs": [],
   "source": [
    "df_out = df[varlist]\n",
    "df_out.to_csv('../data/US-Me6.csv')"
   ]
  },
  {
   "cell_type": "code",
   "execution_count": null,
   "id": "edc13bc4-74f5-494e-a0f9-e77801dea089",
   "metadata": {},
   "outputs": [],
   "source": []
  }
 ],
 "metadata": {
  "kernelspec": {
   "display_name": "Python 3",
   "language": "python",
   "name": "python3"
  },
  "language_info": {
   "codemirror_mode": {
    "name": "ipython",
    "version": 3
   },
   "file_extension": ".py",
   "mimetype": "text/x-python",
   "name": "python",
   "nbconvert_exporter": "python",
   "pygments_lexer": "ipython3",
   "version": "3.8.8"
  }
 },
 "nbformat": 4,
 "nbformat_minor": 5
}
